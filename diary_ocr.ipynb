{
 "cells": [
  {
   "cell_type": "code",
   "execution_count": 1,
   "metadata": {},
   "outputs": [],
   "source": [
    "import os\n",
    "\n",
    "from time import time"
   ]
  },
  {
   "cell_type": "code",
   "execution_count": 2,
   "metadata": {},
   "outputs": [],
   "source": [
    "from diary_ocr import diary_ocr"
   ]
  },
  {
   "cell_type": "code",
   "execution_count": 3,
   "metadata": {},
   "outputs": [
    {
     "name": "stderr",
     "output_type": "stream",
     "text": [
      "[2020-09-25 12:10:25,975] [    INFO] - Installing chinese_ocr_db_crnn_server module\n",
      "[2020-09-25 12:10:26,119] [    INFO] - Module chinese_ocr_db_crnn_server already installed in C:\\Users\\ZFB\\.paddlehub\\modules\\chinese_ocr_db_crnn_server\n",
      "[2020-09-25 12:10:27,599] [    INFO] - Installing chinese_text_detection_db_server module-1.0.2\n",
      "[2020-09-25 12:10:27,601] [    INFO] - Module chinese_text_detection_db_server-1.0.2 already installed in C:\\Users\\ZFB\\.paddlehub\\modules\\chinese_text_detection_db_server\n"
     ]
    }
   ],
   "source": [
    "text = diary_ocr('diary.jpg', output_dir='ocr_result')"
   ]
  },
  {
   "cell_type": "code",
   "execution_count": 4,
   "metadata": {},
   "outputs": [
    {
     "name": "stdout",
     "output_type": "stream",
     "text": [
      "2020年9月24日星期四晴\n",
      "今天大课间时，刘老师决定带我们去换场远香桂花我\n",
      "们先来到操场旁边的“小花园，再走列桂花前。哇！一般浓有的\n",
      "香气扑面面来。大家都吸着鼻子，生怕自闻不到这香气，有的同学\n",
      "距着脚闸，有的同学把枝条拉下来用，还有的同学恨不得他到树\n",
      "上去闻，桂花树前异常拥挤.我好不容易挤到前面，发现没开的桂\n",
      "花像一个个迷你小灯笼挂在桂花树上，开了的桂花，像一竹十字\n",
      "形的小喇八，吹来了浓郁的香气。啊什么在西掉到我嘴里去了了我\n",
      "原来是一朵没开的桂花，我嚼了了爱先是一般清凉的苦味，接着是一阵\n",
      "浓郁的香味，最的是一种心心脾的甜味。\n",
      "我觉得做人也要像桂花一样，虽然砂小而普通，但也要努力散发\n",
      "出自己的芬芳。\n"
     ]
    }
   ],
   "source": [
    "print(text)"
   ]
  },
  {
   "cell_type": "code",
   "execution_count": null,
   "metadata": {},
   "outputs": [],
   "source": []
  }
 ],
 "metadata": {
  "kernelspec": {
   "display_name": "Python 3",
   "language": "python",
   "name": "python3"
  },
  "language_info": {
   "codemirror_mode": {
    "name": "ipython",
    "version": 3
   },
   "file_extension": ".py",
   "mimetype": "text/x-python",
   "name": "python",
   "nbconvert_exporter": "python",
   "pygments_lexer": "ipython3",
   "version": "3.7.7"
  }
 },
 "nbformat": 4,
 "nbformat_minor": 4
}
